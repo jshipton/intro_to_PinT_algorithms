{
 "cells": [
  {
   "cell_type": "markdown",
   "id": "94ec44ef",
   "metadata": {},
   "source": [
    "# Scalar advection-diffusion using sequential timestepping\n",
    "\n",
    "We will solve scalar advection-diffusion using serial timestepping and the implicit theta method.\n",
    "\n",
    "Scalar advection-diffusion is a model linear PDE describing the transport of a passive scalar $q$ by a specified velocity field $u$ and diffusion with a coefficient $\\nu$:\n",
    "\n",
    "$$\n",
    "\\partial_{t}q + u\\partial_{x}q - \\nu\\partial^{2}_{xx}q = 0\n",
    "$$\n",
    "\n",
    "We will often combine the two gradient terms into a single spatial residual term:\n",
    "\n",
    "$$\n",
    "\\partial_{t}q + \\textbf{K}q = 0\n",
    "$$\n",
    "\n",
    "\n",
    "## Time discretisation\n",
    "\n",
    "The implicit theta method is a single-step method which includes the first order forward and backward Euler methods, and the second order trapezium rule method as special cases.\n",
    "\n",
    "The solution $q$ is discretised in time, with the discrete solution $q^{n}$ approximating $q(t^{n})$, where $t^{n}=n\\Delta t$ and $\\Delta t$ is the timestep size. The implicit theta method provides an update from the current timestep $q^{n}$ to the next timestep $q^{n+1}$ by:\n",
    "\n",
    "$$\n",
    "\\frac{q^{n+1}-q^{n}}{\\Delta t} + \\theta \\textbf{K}q^{n+1} + (1-\\theta)\\textbf{K}q^{n} = 0\n",
    "$$\n",
    "\n",
    "The time derivative is approximated using simple finite differences, and the right hand side is approximated by a weighted sum of the values at the current and next timestep. When $\\theta=0$ we have the explicit forward Euler method, when $\\theta=1$ we have the implicit backward Euler method, and when $\\theta=0.5$ we have the trapezium rule.\n",
    "\n",
    "## Implementing the discretisation\n",
    "\n",
    "Now that we have a timestepping method, we can begin implementing it to find a time series of the solution.\n",
    "We will solve the advection diffusion equation on a periodic 1D domain. The spatial gradient terms will be implemented using finite differences, so the domain will be split into a number of discrete mesh points.\n",
    "First we define the number of timesteps `nt`, the number of mesh points `nx`, the size of the domain `lx`.\n",
    "\n",
    "The velocity is enforced to be 1 everywhere, and the viscosity $\\nu$ is calculated by enforcing the Reynolds number $Re=uL/\\nu$, which describes whether advection or diffusion forces dominate. $Re\\gg1$ will give an advection dominated flow which will not decay quickly.\n",
    "\n",
    "The timestep is calculated by enforcing the CFL number $\\sigma=u\\Delta t/\\Delta x$. If $\\sigma<1$ then the advection velocity has travelled less than the distance between mesh points $\\Delta x$ within one timestep, which will give higher accuracy than $\\sigma>1$."
   ]
  },
  {
   "cell_type": "code",
   "execution_count": null,
   "id": "229b772a",
   "metadata": {},
   "outputs": [],
   "source": [
    "nt = 256\n",
    "nx = 512\n",
    "\n",
    "lx = 1.\n",
    "dx = lx/nx\n",
    "\n",
    "# width of initial profile\n",
    "width = lx/4\n",
    "\n",
    "theta = 0.5\n",
    "\n",
    "# velocity, CFL, and reynolds number\n",
    "u = 1\n",
    "re = 200\n",
    "cfl = 0.8\n",
    "\n",
    "# viscosity\n",
    "nu = width*u/re\n",
    "\n",
    "# timestep\n",
    "dt = cfl*dx/u\n",
    "\n",
    "cfl_u = cfl\n",
    "cfl_v = nu*dt/dx**2\n",
    "\n",
    "print(\"nu, dt, cfl_v, cfl_u\")\n",
    "print( nu, dt, cfl_v, cfl_u )"
   ]
  },
  {
   "cell_type": "markdown",
   "id": "7205ad89",
   "metadata": {},
   "source": [
    "The domain is $x\\in[-l_{x}/2, l_{x}/2]$ and will be discretised by `nx` equally spaced grid points."
   ]
  },
  {
   "cell_type": "code",
   "execution_count": null,
   "id": "e0fb2e8e",
   "metadata": {},
   "outputs": [],
   "source": [
    "import numpy as np\n",
    "\n",
    "x = np.linspace(start=-lx/2, stop=lx/2, num=nx, endpoint=False)"
   ]
  },
  {
   "cell_type": "markdown",
   "id": "e9914926",
   "metadata": {},
   "source": [
    "The spatial derivative can be approximated by second order finite differences:\n",
    "\n",
    "$$\n",
    "\\partial_{x}q|_{i} \\approx \\frac{q_{i+1}-q_{i-1}}{2\\Delta x} + \\mathcal{O}(\\Delta x^{2})\n",
    "$$\n",
    "and for the second derivative:\n",
    "$$\n",
    "\\partial^{2}_{xx}q|_{i} \\approx \\frac{q_{i+1}-2q_{i}+q_{i-1}}{\\Delta x^{2}} + \\mathcal{O}(\\Delta x^{2}),\n",
    "$$\n",
    "where $q_{i}$ is the approximation of the solution at grid point $i$.\n",
    "\n",
    "Rearranging the implicit theta rule method, at each timestep $n$ we can use the solution vector at the current timestep $q^{n}$ to calculate the solution vector at the next timestep $q^{n+1}$ by solving the implicit system:\n",
    "$$\n",
    "\\left(I + \\Delta t\\theta K\\right)q^{n+1}\n",
    "= \\left(I - \\Delta t\\left(1-\\theta\\right)K\\right)q^{n}\n",
    "$$\n",
    "\n",
    "Where $I$ is the identity matrix and the matrix $K$ contains the finite difference stencils. For a periodic domain $K$ is a circulant matrix, which means that we can reuse the `CirculantLinearOperator` that we implemented to solve the all-at-once system of the Dalhquist equation.\n",
    "\n",
    "To do this we need to describe the first column of $K$, then the first column of the matrices on the left and right hand side of our update equation:"
   ]
  },
  {
   "cell_type": "code",
   "execution_count": null,
   "id": "4360ebfb",
   "metadata": {},
   "outputs": [],
   "source": [
    "# identity\n",
    "I = np.zeros_like(x)\n",
    "I[0] = 1\n",
    "\n",
    "# gradient matrix for the advection term\n",
    "Ka = np.zeros_like(x)\n",
    "Ka[-1] = 1/(2*dx)\n",
    "Ka[1] = -1/(2*dx)\n",
    "\n",
    "# laplacian matrix for the diffusion term\n",
    "Kd = np.zeros_like(x)\n",
    "Kd[-1] = 1/dx**2\n",
    "Kd[0] = -2/dx**2\n",
    "Kd[1] = 1/dx**2\n",
    "\n",
    "# full spatial residual matrix\n",
    "K = u*Ka - nu*Kd\n",
    "\n",
    "# columns of the right/left hand side matrices\n",
    "rhs_col = I - dt*(1-theta)*K\n",
    "lhs_col = I + dt*theta*K"
   ]
  },
  {
   "cell_type": "markdown",
   "id": "6787b35f",
   "metadata": {},
   "source": [
    "You can convince yourself that these columns do in fact give the correct matrices by setting `nx` small and using [scipy.linalg.circulant](https://docs.scipy.org/doc/scipy/reference/generated/scipy.linalg.circulant.html) to create and examine the full matrices.\n",
    "\n",
    "Because we need to multiply by a circulant matrix to calculate the right hand side, as well as solve the circulant matrix on the left hand side, the `CirculantLinearOperator` class will need extending to do both of these. Complete the extra `_mul` method below to implement this.\n",
    "\n",
    "_Note that we need to specify returning the real component of the vector in `_matvec` because the FFT functions will return complex vectors._"
   ]
  },
  {
   "cell_type": "code",
   "execution_count": null,
   "id": "20855af1",
   "metadata": {},
   "outputs": [],
   "source": [
    "from scipy.sparse import linalg as spla\n",
    "from scipy.fft import fft, ifft\n",
    "\n",
    "class CirculantLinearOperator(spla.LinearOperator):\n",
    "    def __init__(self, col, inverse=True):\n",
    "        self.dtype = col.dtype\n",
    "        self.shape = tuple((len(col), len(col)))\n",
    "        self.col = col\n",
    "        self.eigvals = fft(col, norm='backward')\n",
    "        \n",
    "        if inverse:\n",
    "            self.op = self._solve\n",
    "        else:\n",
    "            self.op = self._mul\n",
    "    \n",
    "    def _mul(self, v):\n",
    "        # implement this method\n",
    "        pass\n",
    "    \n",
    "    def _solve(self, v):\n",
    "        return ifft(fft(v)/self.eigvals)\n",
    "\n",
    "    def _matvec(self, v):\n",
    "        return self.op(v).real"
   ]
  },
  {
   "cell_type": "markdown",
   "id": "aad10778",
   "metadata": {},
   "source": [
    "We can now create a linear operator for each side of the equation:"
   ]
  },
  {
   "cell_type": "code",
   "execution_count": null,
   "id": "a5e7e031",
   "metadata": {},
   "outputs": [],
   "source": [
    "rhs = CirculantLinearOperator(rhs_col, inverse=False)\n",
    "lhs = CirculantLinearOperator(lhs_col, inverse=True)"
   ]
  },
  {
   "cell_type": "markdown",
   "id": "3852be4e",
   "metadata": {},
   "source": [
    "With the numerical scheme created, we can now set up the initial conditions using an isolated sinusoidal bump:"
   ]
  },
  {
   "cell_type": "code",
   "execution_count": null,
   "id": "83edf082",
   "metadata": {},
   "outputs": [],
   "source": [
    "from math import pi\n",
    "import matplotlib.pyplot as plt\n",
    "\n",
    "qinit = np.zeros_like(x)\n",
    "qinit[:] =  1 + np.cos(np.minimum(2*pi*np.abs(x+lx/4)/width, pi))\n",
    "\n",
    "plt.plot(x, qinit)\n",
    "plt.show()"
   ]
  },
  {
   "cell_type": "markdown",
   "id": "3b223668",
   "metadata": {},
   "source": [
    "Finally, we can solve the timeseries one step at a time, saving the solution at each timestep along the way."
   ]
  },
  {
   "cell_type": "code",
   "execution_count": null,
   "id": "450d3bf1",
   "metadata": {},
   "outputs": [],
   "source": [
    "q = np.zeros((nt+1, nx))\n",
    "q[0] = qinit\n",
    "\n",
    "for i in range(1, nt+1):\n",
    "    # implement the timestep here\n",
    "    pass"
   ]
  },
  {
   "cell_type": "code",
   "execution_count": null,
   "id": "b6051d49",
   "metadata": {},
   "outputs": [],
   "source": [
    "plt.plot(x, qinit, label='i')\n",
    "for i in range(20, nt+1, 20):\n",
    "    plt.plot(x, q[i], label=str(i))\n",
    "plt.legend(loc='center left')\n",
    "plt.grid()\n",
    "plt.show()"
   ]
  },
  {
   "cell_type": "code",
   "execution_count": null,
   "id": "bcf2db80",
   "metadata": {},
   "outputs": [],
   "source": []
  }
 ],
 "metadata": {
  "kernelspec": {
   "display_name": "Python 3 (ipykernel)",
   "language": "python",
   "name": "python3"
  },
  "language_info": {
   "codemirror_mode": {
    "name": "ipython",
    "version": 3
   },
   "file_extension": ".py",
   "mimetype": "text/x-python",
   "name": "python",
   "nbconvert_exporter": "python",
   "pygments_lexer": "ipython3",
   "version": "3.8.10"
  }
 },
 "nbformat": 4,
 "nbformat_minor": 5
}
